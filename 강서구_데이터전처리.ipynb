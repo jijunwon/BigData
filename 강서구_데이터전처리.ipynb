{
 "cells": [
  {
   "cell_type": "code",
   "execution_count": 1,
   "id": "9406277b-a93b-4e31-9ad9-23aa7c40e875",
   "metadata": {},
   "outputs": [],
   "source": [
    "import numpy as np\n",
    "import pandas as pd"
   ]
  },
  {
   "cell_type": "code",
   "execution_count": 2,
   "id": "11bc1a3c-4f8b-4f26-b9cc-6b082a6077b1",
   "metadata": {},
   "outputs": [],
   "source": [
    "file_path = '쓰레기 배출/서울특별시 강서구_월별 쓰레기 배출량_20240328.csv'"
   ]
  },
  {
   "cell_type": "code",
   "execution_count": 16,
   "id": "1f4692be-1b92-42b7-a559-2a179390c732",
   "metadata": {},
   "outputs": [
    {
     "name": "stdout",
     "output_type": "stream",
     "text": [
      "CSV 파일 로드 완료(cp949)!\n",
      "        연월  종량제폐기물(킬로그램)  음식물류폐기물(킬로그램)  재활용품(킬로그램)\n",
      "0  2021-01       4445390        2798770     2242550\n",
      "1  2021-02       4322390        2648150     2165290\n",
      "2  2021-03       5000610        3072470     2434340\n",
      "3  2021-04       4640200        2882080     2265220\n",
      "4  2021-05       4688250        3088140     2332020\n"
     ]
    }
   ],
   "source": [
    "try:\n",
    "    df = pd.read_csv(file_path, encoding = 'cp949')\n",
    "    print(\"CSV 파일 로드 완료(cp949)!\")\n",
    "    print(df.head()) # 처음 몇 줄을 출력하여 데이터 확인\n",
    "except FileNotFoundError:\n",
    "    print(f\"경로 '{file_path}'에 파일이 없습니다. 파일 경로를 확인해주세요.\")\n",
    "except Exception as e:\n",
    "    print(f\"파일을 로드하는 동안 오류가 발생했습니다: {e}\")"
   ]
  },
  {
   "cell_type": "code",
   "execution_count": 17,
   "id": "df1ce80a-5763-4bd0-9328-2baa9da7d34f",
   "metadata": {},
   "outputs": [
    {
     "name": "stdout",
     "output_type": "stream",
     "text": [
      "        연월  총 쓰레기(톤)\n",
      "0  2021-01   7244.16\n",
      "1  2021-02   6970.54\n",
      "2  2021-03   8073.08\n",
      "3  2021-04   7522.28\n",
      "4  2021-05   7776.39\n"
     ]
    }
   ],
   "source": [
    "df['종량제폐기물(킬로그램)'] = pd.to_numeric(df['종량제폐기물(킬로그램)'], errors='coerce')\n",
    "df['음식물류폐기물(킬로그램)'] = pd.to_numeric(df['음식물류폐기물(킬로그램)'], errors='coerce')\n",
    "\n",
    "df['총 쓰레기(킬로그램)'] = df['종량제폐기물(킬로그램)'] + df['음식물류폐기물(킬로그램)']\n",
    "df['총 쓰레기(톤)'] = df['총 쓰레기(킬로그램)'] / 1000\n",
    "df = df.drop(columns = ['종량제폐기물(킬로그램)', '음식물류폐기물(킬로그램)', '재활용품(킬로그램)', '총 쓰레기(킬로그램)'])\n",
    "\n",
    "print(df.head())"
   ]
  },
  {
   "cell_type": "code",
   "execution_count": 20,
   "id": "d671c508-dccf-481d-ae6d-8158b1067fe0",
   "metadata": {},
   "outputs": [
    {
     "name": "stdout",
     "output_type": "stream",
     "text": [
      "         년월  총 쓰레기(톤)\n",
      "0   2021-01      7244\n",
      "1   2021-02      6970\n",
      "2   2021-03      8073\n",
      "3   2021-04      7522\n",
      "4   2021-05      7776\n",
      "5   2021-06      8261\n",
      "6   2021-07      8619\n",
      "7   2021-08      8150\n",
      "8   2021-09      7976\n",
      "9   2021-10      7828\n",
      "10  2021-11      8564\n",
      "11  2021-12      8082\n",
      "12  2022-01      7419\n",
      "13  2022-02      7022\n",
      "14  2022-03      7846\n",
      "15  2022-04      7479\n",
      "16  2022-05      7772\n",
      "17  2022-06      7996\n",
      "18  2022-07      8232\n",
      "19  2022-08      8186\n",
      "20  2022-09      7618\n",
      "21  2022-10      7254\n",
      "22  2022-11      8066\n",
      "23  2022-12      7516\n",
      "24  2023-01      7386\n",
      "25  2023-02      6679\n",
      "26  2023-03      7360\n",
      "27  2023-04      6809\n",
      "28  2023-05      7692\n",
      "29  2023-06      7509\n",
      "30  2023-07      8181\n",
      "31  2023-08      7582\n",
      "32  2023-09      6871\n",
      "33  2023-10      7888\n",
      "34  2023-11      7640\n",
      "35  2023-12      7256\n"
     ]
    }
   ],
   "source": [
    "column_name = '총 쓰레기(톤)'\n",
    "selected_column = df[column_name]\n",
    "df[column_name] = selected_column.astype(int)\n",
    "df = df.rename(columns={'연월': '년월'})\n",
    "\n",
    "print(df)"
   ]
  },
  {
   "cell_type": "code",
   "execution_count": 21,
   "id": "09ebaaef-b5f0-44be-94a2-75042b632425",
   "metadata": {},
   "outputs": [
    {
     "name": "stdout",
     "output_type": "stream",
     "text": [
      "\n",
      "'쓰레기 배출/서울특별시 강서구_월별 쓰레기 배출량_20240328.csv'에 변경 사항을 저장했습니다.\n"
     ]
    }
   ],
   "source": [
    "try:\n",
    "    df.to_csv(file_path, index=False, encoding='cp949') # 또는 encoding='cp949'\n",
    "    print(f\"\\n'{file_path}'에 변경 사항을 저장했습니다.\")\n",
    "except Exception as e:\n",
    "    print(f\"파일을 저장하는 동안 오류가 발생했습니다: {e}\")"
   ]
  },
  {
   "cell_type": "code",
   "execution_count": null,
   "id": "bd338605-764e-4a5f-a4c7-b26bf6108bf4",
   "metadata": {},
   "outputs": [],
   "source": []
  }
 ],
 "metadata": {
  "kernelspec": {
   "display_name": "Python 3 (ipykernel)",
   "language": "python",
   "name": "python3"
  },
  "language_info": {
   "codemirror_mode": {
    "name": "ipython",
    "version": 3
   },
   "file_extension": ".py",
   "mimetype": "text/x-python",
   "name": "python",
   "nbconvert_exporter": "python",
   "pygments_lexer": "ipython3",
   "version": "3.13.3"
  }
 },
 "nbformat": 4,
 "nbformat_minor": 5
}
