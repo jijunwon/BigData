{
 "cells": [
  {
   "cell_type": "code",
   "execution_count": 2,
   "id": "718b8473-87d3-4555-9343-59f489f55edf",
   "metadata": {},
   "outputs": [],
   "source": [
    "import numpy as np\n",
    "import pandas as pd"
   ]
  },
  {
   "cell_type": "code",
   "execution_count": 3,
   "id": "4fcdbccb-8399-4d8e-b67f-b08fed813286",
   "metadata": {},
   "outputs": [],
   "source": [
    "file_path = '쓰레기 배출/서울특별시 서대문구_구역별 쓰레기배출량_20231031.csv'"
   ]
  },
  {
   "cell_type": "code",
   "execution_count": 4,
   "id": "4a37e33b-b4b6-4a43-91cc-6ced44a49ee6",
   "metadata": {},
   "outputs": [
    {
     "name": "stdout",
     "output_type": "stream",
     "text": [
      "CSV 파일 로드 완료(cp949)!\n",
      "        구분      1구역      2구역      3구역\n",
      "0  2019-01  2151.60  1609.75  2132.26\n",
      "1  2019-02  1913.73  1501.17  1967.54\n",
      "2  2019-03  2211.70  1655.33  2153.72\n",
      "3  2019-04  2132.65  1629.48  2123.52\n",
      "4  2019-05  2320.92  1824.30  2342.63\n"
     ]
    }
   ],
   "source": [
    "try:\n",
    "    df = pd.read_csv(file_path, encoding = 'cp949')\n",
    "    print(\"CSV 파일 로드 완료(cp949)!\")\n",
    "    print(df.head())\n",
    "except FileNotFoundError:\n",
    "    print(f\"경로 '{file_path}'에 파일이 없습니다. 파일 경로를 확인해주세요.\")\n",
    "except Expection as e:\n",
    "    print(f\"error in file load: {e}\")"
   ]
  },
  {
   "cell_type": "code",
   "execution_count": 8,
   "id": "333261fd-1e77-4128-bfad-34413dfda4c3",
   "metadata": {},
   "outputs": [
    {
     "name": "stdout",
     "output_type": "stream",
     "text": [
      "        구분  총 쓰레기(톤)\n",
      "0  2019-01   5893.61\n",
      "1  2019-02   5382.44\n",
      "2  2019-03   6020.75\n",
      "3  2019-04   5885.65\n",
      "4  2019-05   6487.85\n"
     ]
    }
   ],
   "source": [
    "df['1구역'] = pd.to_numeric(df['1구역'], errors = 'coerce')\n",
    "df['2구역'] = pd.to_numeric(df['2구역'], errors = 'coerce')\n",
    "df['3구역'] = pd.to_numeric(df['3구역'], errors = 'coerce')\n",
    "df['총 쓰레기(톤)'] = df['1구역'] + df['2구역'] + df['3구역']\n",
    "df = df.drop(columns=['1구역', '2구역', '3구역'])\n",
    "print(df.head())"
   ]
  },
  {
   "cell_type": "code",
   "execution_count": 11,
   "id": "62e2c7f8-7231-4caa-8f4b-f42a0191c3ff",
   "metadata": {},
   "outputs": [
    {
     "name": "stdout",
     "output_type": "stream",
     "text": [
      "         구분  총 쓰레기(톤)\n",
      "0   2019-01      5893\n",
      "1   2019-02      5382\n",
      "2   2019-03      6020\n",
      "3   2019-04      5885\n",
      "4   2019-05      6487\n",
      "5   2019-06      6051\n",
      "6   2019-07      6577\n",
      "7   2019-08      6496\n",
      "8   2019-09      6203\n",
      "9   2019-10      6283\n",
      "10  2019-11      6464\n",
      "11  2019-12      6326\n",
      "12  2020-01      6166\n",
      "13  2020-02      5912\n",
      "14  2020-03      6184\n",
      "15  2020-04      5750\n",
      "16  2020-05      6499\n",
      "17  2020-06      6566\n",
      "18  2020-07      6794\n",
      "19  2020-08      6856\n",
      "20  2020-09      6493\n",
      "21  2020-10      6152\n",
      "22  2020-11      6547\n",
      "23  2020-12      6234\n",
      "24  2021-01      5643\n",
      "25  2021-02      5492\n",
      "26  2021-03      6317\n",
      "27  2021-04      5952\n",
      "28  2021-05      6233\n",
      "29  2021-06      6296\n",
      "30  2021-07      6465\n",
      "31  2021-08      6273\n",
      "32  2021-09      6167\n",
      "33  2021-10      6050\n",
      "34  2021-11      6438\n",
      "35  2021-12      6092\n",
      "36  2022-01      5753\n",
      "37  2022-02      5230\n",
      "38  2022-03      6036\n",
      "39  2022-04      5674\n",
      "40  2022-05      6051\n",
      "41  2022-06      5955\n",
      "42  2022-07      6057\n",
      "43  2022-08      6406\n",
      "44  2022-09      5994\n",
      "45  2022-10      5728\n",
      "46  2022-11      6273\n",
      "47  2022-12      5998\n",
      "48  2023-01      5905\n",
      "49  2023-02      5309\n",
      "50  2023-03      5946\n",
      "51  2023-04      5521\n",
      "52  2023-05      6264\n",
      "53  2023-06      6101\n",
      "54  2023-07      6390\n",
      "55  2023-08      6200\n",
      "56  2023-09      5564\n",
      "57  2023-10      6396\n"
     ]
    }
   ],
   "source": [
    "column_name = '총 쓰레기(톤)'\n",
    "selected_column = df[column_name]\n",
    "df[column_name] = selected_column.astype(int)\n",
    "\n",
    "print(df)"
   ]
  },
  {
   "cell_type": "code",
   "execution_count": null,
   "id": "c2ad7cbb-21f6-4a02-b75b-8a0da5c3aa3e",
   "metadata": {},
   "outputs": [],
   "source": []
  }
 ],
 "metadata": {
  "kernelspec": {
   "display_name": "Python 3 (ipykernel)",
   "language": "python",
   "name": "python3"
  },
  "language_info": {
   "codemirror_mode": {
    "name": "ipython",
    "version": 3
   },
   "file_extension": ".py",
   "mimetype": "text/x-python",
   "name": "python",
   "nbconvert_exporter": "python",
   "pygments_lexer": "ipython3",
   "version": "3.13.3"
  }
 },
 "nbformat": 4,
 "nbformat_minor": 5
}
