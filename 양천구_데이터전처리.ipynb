{
 "cells": [
  {
   "cell_type": "code",
   "execution_count": 19,
   "id": "ccfd2b73-6db0-471b-9e90-821a611c1bac",
   "metadata": {},
   "outputs": [],
   "source": [
    "import numpy as np\n",
    "import pandas as pd"
   ]
  },
  {
   "cell_type": "code",
   "execution_count": 20,
   "id": "d3ddb73a-7d6a-4933-b957-c262869a7db4",
   "metadata": {},
   "outputs": [],
   "source": [
    "file_path = '쓰레기 배출/서울특별시 양천구_구역별쓰레기배출량_20231115.csv'"
   ]
  },
  {
   "cell_type": "code",
   "execution_count": 21,
   "id": "c14b19b1-8f89-4dd1-b0e4-f13a2e0e9417",
   "metadata": {},
   "outputs": [
    {
     "name": "stdout",
     "output_type": "stream",
     "text": [
      "CSV 파일 로드 완료(utf-8)!\n",
      "   기준년도  기준월   구역                                 행정동  일반생활(톤)  음식물류(톤)  \\\n",
      "0  2019    1  1구역                          신월1·2·3·5동      524      427   \n",
      "1  2019    1  2구역      신월4·6·7동, 신정3동, 신정1동 1031,1032      591      484   \n",
      "2  2019    1  3구역     목1동, 신정2동, 신정4동(943~1013, 1302)      552      500   \n",
      "3  2019    1  4구역          신정1동(1031,1032 제외), 신정6·7동      432      368   \n",
      "4  2019    1  5구역  목2·3·4동, 신정4동(872~942, 1305, 1308)      601      544   \n",
      "\n",
      "   재활용품(톤)  \n",
      "0      NaN  \n",
      "1      NaN  \n",
      "2      NaN  \n",
      "3      NaN  \n",
      "4      NaN  \n"
     ]
    }
   ],
   "source": [
    "try:\n",
    "    df = pd.read_csv(file_path, encoding = 'cp949')\n",
    "    print(\"CSV 파일 로드 완료(utf-8)!\")\n",
    "    print(df.head()) # 처음 몇 줄을 출력하여 데이터 확인\n",
    "except FileNotFoundError:\n",
    "    print(f\"경로 '{file_path}'에 파일이 없습니다. 파일 경로를 확인해주세요.\")\n",
    "except Exception as e:\n",
    "    print(f\"파일을 로드하는 동안 오류가 발생했습니다: {e}\")\n",
    "    "
   ]
  },
  {
   "cell_type": "code",
   "execution_count": 22,
   "id": "60119fb8-53cd-4410-b4e4-300029b151b0",
   "metadata": {},
   "outputs": [
    {
     "name": "stdout",
     "output_type": "stream",
     "text": [
      "          년월   구역  일반생활(톤)  음식물류(톤)  재활용품(톤)\n",
      "0    2019-01  1구역      524      427      NaN\n",
      "1    2019-01  2구역      591      484      NaN\n",
      "2    2019-01  3구역      552      500      NaN\n",
      "3    2019-01  4구역      432      368      NaN\n",
      "4    2019-01  5구역      601      544      NaN\n",
      "..       ...  ...      ...      ...      ...\n",
      "343  2023-10  2구역      672      484    170.0\n",
      "344  2023-10  3구역      608      441    156.0\n",
      "345  2023-10  4구역      505      365     43.0\n",
      "346  2023-10  5구역      689      530    449.0\n",
      "347  2023-10  6구역      276      223      NaN\n",
      "\n",
      "[348 rows x 5 columns]\n"
     ]
    }
   ],
   "source": [
    "# 1. 기준년도를 문자열로 변환\n",
    "df['기준년도'] = df['기준년도'].astype(str)\n",
    "\n",
    "# 2. 기준월을 문자열로 변환하고, 한 자리 수 앞에 '0'을 붙임\n",
    "df['기준월'] = df['기준월'].astype(str).str.zfill(2)\n",
    "\n",
    "# 3. 새로운 '년월' 컬럼 생성\n",
    "df['년월'] = df['기준년도'] + '-' + df['기준월']\n",
    "\n",
    "# 이제 필요없는 기준년도와 기준월 컬럼을 삭제\n",
    "df = df.drop(columns=['기준년도', '기준월', '행정동'])\n",
    "\n",
    "# 4. 컬럼 순서 재배치\n",
    "new_columns = ['년월'] + [col for col in df.columns if col != '년월']\n",
    "df = df[new_columns]\n",
    "\n",
    "#출력\n",
    "print(df)"
   ]
  },
  {
   "cell_type": "code",
   "execution_count": 24,
   "id": "8a234237-868b-4473-bca6-432ab7003cb9",
   "metadata": {},
   "outputs": [
    {
     "name": "stdout",
     "output_type": "stream",
     "text": [
      "        년월   구역  일반생활(톤)  음식물류(톤)  재활용품(톤)  총 쓰레기(톤)\n",
      "0  2019-01  1구역      524      427      NaN       951\n",
      "1  2019-01  2구역      591      484      NaN      1075\n",
      "2  2019-01  3구역      552      500      NaN      1052\n",
      "3  2019-01  4구역      432      368      NaN       800\n",
      "4  2019-01  5구역      601      544      NaN      1145\n"
     ]
    }
   ],
   "source": [
    "# 1. '일반생활(톤)'과 '음식물류(톤)' 컬럼을 숫자형으로 변환 (오류 방지)\n",
    "df['일반생활(톤)'] = pd.to_numeric(df['일반생활(톤)'], errors='coerce')\n",
    "df['음식물류(톤)'] = pd.to_numeric(df['음식물류(톤)'], errors='coerce')\n",
    "\n",
    "# 2. 두 컬럼의 값을 더하여 새로운 '총 쓰레기(톤)' 컬럼 생성\n",
    "df['총 쓰레기(톤)'] = df['일반생활(톤)'] + df['음식물류(톤)']\n",
    "\n",
    "# 3. 결과 확인 (선택 사항)\n",
    "print(df.head())"
   ]
  },
  {
   "cell_type": "code",
   "execution_count": 25,
   "id": "2fcba19a-97c2-4722-827f-a479bea3bc15",
   "metadata": {},
   "outputs": [
    {
     "name": "stdout",
     "output_type": "stream",
     "text": [
      "        년월   구역  총 쓰레기(톤)\n",
      "0  2019-01  1구역       951\n",
      "1  2019-01  2구역      1075\n",
      "2  2019-01  3구역      1052\n",
      "3  2019-01  4구역       800\n",
      "4  2019-01  5구역      1145\n"
     ]
    }
   ],
   "source": [
    "df = df.drop(columns=['일반생활(톤)', '음식물류(톤)','재활용품(톤)'])\n",
    "print(df.head())"
   ]
  },
  {
   "cell_type": "code",
   "execution_count": 27,
   "id": "c7feabed-6bdd-4f14-96d7-33a991327d8f",
   "metadata": {},
   "outputs": [
    {
     "name": "stdout",
     "output_type": "stream",
     "text": [
      "          년월  총 쓰레기(톤)\n",
      "0    2019-01       951\n",
      "1    2019-01      1075\n",
      "2    2019-01      1052\n",
      "3    2019-01       800\n",
      "4    2019-01      1145\n",
      "..       ...       ...\n",
      "343  2023-10      1156\n",
      "344  2023-10      1049\n",
      "345  2023-10       870\n",
      "346  2023-10      1219\n",
      "347  2023-10       499\n",
      "\n",
      "[348 rows x 2 columns]\n"
     ]
    }
   ],
   "source": [
    "df = df.drop(columns=['구역'])\n",
    "print(df)"
   ]
  },
  {
   "cell_type": "code",
   "execution_count": 40,
   "id": "da9ad8b4-3aa8-4f55-a608-de8ab0994693",
   "metadata": {},
   "outputs": [
    {
     "name": "stdout",
     "output_type": "stream",
     "text": [
      "년월별 총 쓰레기(톤) 합계:\n",
      "          년월  총 쓰레기(톤)\n",
      "0   2019-01      5479\n",
      "1   2019-02      5023\n",
      "2   2019-03      4961\n",
      "3   2019-04      5472\n",
      "4   2019-05      5444\n",
      "5   2019-06      5232\n",
      "6   2019-07      6024\n",
      "7   2019-08      5632\n",
      "8   2019-09      5469\n",
      "9   2019-10      5473\n",
      "10  2019-11      5750\n",
      "11  2019-12      5519\n",
      "12  2020-01      5486\n",
      "13  2020-02      5283\n",
      "14  2020-03      5516\n",
      "15  2020-04      5074\n",
      "16  2020-05      5710\n",
      "17  2020-06      6000\n",
      "18  2020-07      5828\n",
      "19  2020-08      5899\n",
      "20  2020-09      5595\n",
      "21  2020-10      5708\n",
      "22  2020-11      5735\n",
      "23  2020-12      5784\n",
      "24  2021-01      5189\n",
      "25  2021-02      4933\n",
      "26  2021-03      5565\n",
      "27  2021-04      5199\n",
      "28  2021-05      5383\n",
      "29  2021-06      5626\n",
      "30  2021-07      5896\n",
      "31  2021-08      5785\n",
      "32  2021-09      5573\n",
      "33  2021-10      5443\n",
      "34  2021-11      5995\n",
      "35  2021-12      5524\n",
      "36  2022-01      5263\n",
      "37  2022-02      5092\n",
      "38  2022-03      5498\n",
      "39  2022-04      5296\n",
      "40  2022-05      5568\n",
      "41  2022-06      5558\n",
      "42  2022-07      5912\n",
      "43  2022-08      5913\n",
      "44  2022-09      5422\n",
      "45  2022-10      5273\n",
      "46  2022-11      5751\n",
      "47  2022-12      5406\n",
      "48  2023-01      5256\n",
      "49  2023-02      4936\n",
      "50  2023-03      5128\n",
      "51  2023-04      4869\n",
      "52  2023-05      5532\n",
      "53  2023-06      5519\n",
      "54  2023-07      5893\n",
      "55  2023-08      5411\n",
      "56  2023-09      4911\n",
      "57  2023-10      5633\n"
     ]
    }
   ],
   "source": [
    "df_grouped = df.groupby('년월')['총 쓰레기(톤)'].sum().reset_index()\n",
    "print(\"년월별 총 쓰레기(톤) 합계:\\n\", df_grouped)"
   ]
  },
  {
   "cell_type": "code",
   "execution_count": 41,
   "id": "6646a761-e41c-4e86-aee8-dad2e0ec6355",
   "metadata": {},
   "outputs": [
    {
     "name": "stdout",
     "output_type": "stream",
     "text": [
      "\n",
      "'쓰레기 배출/서울특별시 양천구_구역별쓰레기배출량_20231115.csv'에 변경 사항을 저장했습니다.\n"
     ]
    }
   ],
   "source": [
    "file_path = '쓰레기 배출/서울특별시 양천구_구역별쓰레기배출량_20231115.csv'\n",
    "try:\n",
    "    df_grouped.to_csv(file_path, index=False, encoding='cp949') # 또는 encoding='cp949'\n",
    "    print(f\"\\n'{file_path}'에 변경 사항을 저장했습니다.\")\n",
    "except Exception as e:\n",
    "    print(f\"파일을 저장하는 동안 오류가 발생했습니다: {e}\")\n"
   ]
  },
  {
   "cell_type": "code",
   "execution_count": null,
   "id": "3b5cbc0e-4955-4547-a51f-4a6066dc5864",
   "metadata": {},
   "outputs": [],
   "source": []
  }
 ],
 "metadata": {
  "kernelspec": {
   "display_name": "Python 3 (ipykernel)",
   "language": "python",
   "name": "python3"
  },
  "language_info": {
   "codemirror_mode": {
    "name": "ipython",
    "version": 3
   },
   "file_extension": ".py",
   "mimetype": "text/x-python",
   "name": "python",
   "nbconvert_exporter": "python",
   "pygments_lexer": "ipython3",
   "version": "3.13.3"
  }
 },
 "nbformat": 4,
 "nbformat_minor": 5
}
