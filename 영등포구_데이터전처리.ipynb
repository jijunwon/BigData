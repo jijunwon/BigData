{
 "cells": [
  {
   "cell_type": "code",
   "execution_count": 1,
   "id": "a1ef69b6-ddc7-4a84-99dc-e87d0f633a83",
   "metadata": {},
   "outputs": [],
   "source": [
    "import numpy as np\n",
    "import pandas as pd"
   ]
  },
  {
   "cell_type": "code",
   "execution_count": 2,
   "id": "7e78b6f2-8fe6-4063-9fb4-be2808fce690",
   "metadata": {},
   "outputs": [],
   "source": [
    "file_path = '쓰레기 배출/서울특별시 영등포구_폐기물현황_20231120.csv'"
   ]
  },
  {
   "cell_type": "code",
   "execution_count": 4,
   "id": "3988775a-195b-436f-9ca0-0847cb44d8c1",
   "metadata": {},
   "outputs": [
    {
     "name": "stdout",
     "output_type": "stream",
     "text": [
      "CSV 파일 로드 완료(cp949)!\n",
      "        년월  재활용폐기물  음식물폐기물\n",
      "0  2018-10    1104    3173\n",
      "1  2018-11    1000    3343\n",
      "2  2018-12    1033    3134\n",
      "3  2019-01    1061    3180\n",
      "4  2019-02     989    2823\n"
     ]
    }
   ],
   "source": [
    "try:\n",
    "    df = pd.read_csv(file_path, encoding = 'cp949')\n",
    "    print(\"CSV 파일 로드 완료(cp949)!\")\n",
    "    print(df.head())\n",
    "except FileNotFoundError:\n",
    "    print(f\"경로 '{file_path}'에 파일이 없습니다. 파일 경로를 확인해주세요.\")\n",
    "except Expection as e:\n",
    "    print(f\"error in file load: {e}\")"
   ]
  },
  {
   "cell_type": "code",
   "execution_count": 6,
   "id": "bfbe7dd9-21ce-4779-acdc-64bd63fecca3",
   "metadata": {},
   "outputs": [
    {
     "name": "stdout",
     "output_type": "stream",
     "text": [
      "        년월  재활용폐기물  음식물폐기물  총 쓰레기(톤)\n",
      "0  2018-10    1104    3173      4277\n",
      "1  2018-11    1000    3343      4343\n",
      "2  2018-12    1033    3134      4167\n",
      "3  2019-01    1061    3180      4241\n",
      "4  2019-02     989    2823      3812\n"
     ]
    }
   ],
   "source": [
    "df['재활용폐기물'] = pd.to_numeric(df['재활용폐기물'], errors = 'coerce')\n",
    "df['음식물폐기물'] = pd.to_numeric(df['음식물폐기물'], errors = 'coerce')\n",
    "df['총 쓰레기(톤)'] = df['재활용폐기물'] + df['음식물폐기물']\n",
    "print(df.head())"
   ]
  },
  {
   "cell_type": "code",
   "execution_count": 8,
   "id": "c2457056-425f-43b2-92d3-f53a6128393f",
   "metadata": {},
   "outputs": [
    {
     "name": "stdout",
     "output_type": "stream",
     "text": [
      "        년월  총 쓰레기(톤)\n",
      "0  2018-10      4277\n",
      "1  2018-11      4343\n",
      "2  2018-12      4167\n",
      "3  2019-01      4241\n",
      "4  2019-02      3812\n"
     ]
    }
   ],
   "source": [
    "df = df.drop(columns=['재활용폐기물', '음식물폐기물'])\n",
    "print(df.head())"
   ]
  },
  {
   "cell_type": "code",
   "execution_count": 13,
   "id": "fbd65869-e54d-41d8-b3d3-5f95bcf437cb",
   "metadata": {},
   "outputs": [
    {
     "name": "stdout",
     "output_type": "stream",
     "text": [
      "         년월  총 쓰레기(톤)\n",
      "3   2019-01      4241\n",
      "4   2019-02      3812\n",
      "5   2019-03      4097\n",
      "6   2019-04      4101\n",
      "7   2019-05      4515\n",
      "8   2019-06      4355\n",
      "9   2019-07      4940\n",
      "10  2019-08      4651\n",
      "11  2019-09      4560\n",
      "12  2019-10      4318\n",
      "13  2019-11      4354\n",
      "14  2019-12      4369\n",
      "15  2020-01      4457\n",
      "16  2020-02      3863\n",
      "17  2020-03      4066\n",
      "18  2020-04      3860\n",
      "19  2020-05      4441\n",
      "20  2020-06      4674\n",
      "21  2020-07      4843\n",
      "22  2020-08      4725\n",
      "23  2020-09      4109\n",
      "24  2020-10      4168\n",
      "25  2020-11      4409\n",
      "26  2020-12      4055\n",
      "27  2021-01      3982\n",
      "28  2021-02      3763\n",
      "29  2021-03      4237\n",
      "30  2021-04      3954\n",
      "31  2021-05      4299\n",
      "32  2021-06      4310\n",
      "33  2021-07      4515\n",
      "34  2021-08      4271\n",
      "35  2021-09      4127\n",
      "36  2021-10      4126\n",
      "37  2021-11      4382\n",
      "38  2021-12      4063\n",
      "39  2022-01      4055\n",
      "40  2022-02      3576\n",
      "41  2022-03      4006\n",
      "42  2022-04      3963\n",
      "43  2022-05      4242\n",
      "44  2022-06      4251\n",
      "45  2022-07      4541\n",
      "46  2022-08      5509\n",
      "47  2022-09      4206\n",
      "48  2022-10      4104\n",
      "49  2022-11      4320\n",
      "50  2022-12      4226\n",
      "51  2023-01      4262\n",
      "52  2023-02      3784\n",
      "53  2023-03      4130\n",
      "54  2023-04      3873\n",
      "55  2023-05      4450\n",
      "56  2023-06      4365\n",
      "57  2023-07      4791\n",
      "58  2023-08      4318\n",
      "59  2023-09      4068\n",
      "60  2023-10      4162\n"
     ]
    }
   ],
   "source": [
    "df['연도'] = df['년월'].str.split('-').str[0]\n",
    "df = df[df['연도'] != '2018']\n",
    "df.drop(columns = ['연도'], inplace = True)\n",
    "print(df)"
   ]
  },
  {
   "cell_type": "code",
   "execution_count": null,
   "id": "3d833bca-8081-445f-bb8c-15d17e3bcb69",
   "metadata": {},
   "outputs": [],
   "source": [
    "try:\n",
    "    df.to_csv(file_path, index=False, encoding='cp949') # 또는 encoding='cp949'\n",
    "    print(f\"\\n'{file_path}'에 변경 사항을 저장했습니다.\")\n",
    "except Exception as e:\n",
    "    print(f\"파일을 저장하는 동안 오류가 발생했습니다: {e}\")\n"
   ]
  }
 ],
 "metadata": {
  "kernelspec": {
   "display_name": "Python 3 (ipykernel)",
   "language": "python",
   "name": "python3"
  },
  "language_info": {
   "codemirror_mode": {
    "name": "ipython",
    "version": 3
   },
   "file_extension": ".py",
   "mimetype": "text/x-python",
   "name": "python",
   "nbconvert_exporter": "python",
   "pygments_lexer": "ipython3",
   "version": "3.13.3"
  }
 },
 "nbformat": 4,
 "nbformat_minor": 5
}
