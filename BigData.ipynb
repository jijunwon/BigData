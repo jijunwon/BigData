{
 "cells": [
  {
   "cell_type": "code",
   "execution_count": 16,
   "id": "ccfd2b73-6db0-471b-9e90-821a611c1bac",
   "metadata": {},
   "outputs": [],
   "source": [
    "import numpy as np\n",
    "import pandas as pd"
   ]
  },
  {
   "cell_type": "code",
   "execution_count": 25,
   "id": "d3ddb73a-7d6a-4933-b957-c262869a7db4",
   "metadata": {},
   "outputs": [],
   "source": [
    "file_path = '쓰레기 배출/서울특별시 양천구_구역별쓰레기배출량_20231115.csv'"
   ]
  },
  {
   "cell_type": "code",
   "execution_count": 26,
   "id": "c14b19b1-8f89-4dd1-b0e4-f13a2e0e9417",
   "metadata": {},
   "outputs": [
    {
     "name": "stdout",
     "output_type": "stream",
     "text": [
      "CSV 파일 로드 완료(utf-8)!\n",
      "   기준년도  기준월   구역                                 행정동  일반생활(톤)  음식물류(톤)  \\\n",
      "0  2019    1  1구역                          신월1·2·3·5동      524      427   \n",
      "1  2019    1  2구역      신월4·6·7동, 신정3동, 신정1동 1031,1032      591      484   \n",
      "2  2019    1  3구역     목1동, 신정2동, 신정4동(943~1013, 1302)      552      500   \n",
      "3  2019    1  4구역          신정1동(1031,1032 제외), 신정6·7동      432      368   \n",
      "4  2019    1  5구역  목2·3·4동, 신정4동(872~942, 1305, 1308)      601      544   \n",
      "\n",
      "   재활용품(톤)  \n",
      "0      NaN  \n",
      "1      NaN  \n",
      "2      NaN  \n",
      "3      NaN  \n",
      "4      NaN  \n"
     ]
    }
   ],
   "source": [
    "try:\n",
    "    df = pd.read_csv(file_path, encoding = 'cp949')\n",
    "    print(\"CSV 파일 로드 완료(utf-8)!\")\n",
    "    print(df.head()) # 처음 몇 줄을 출력하여 데이터 확인\n",
    "except FileNotFoundError:\n",
    "    print(f\"경로 '{file_path}'에 파일이 없습니다. 파일 경로를 확인해주세요.\")\n",
    "except Exception as e:\n",
    "    print(f\"파일을 로드하는 동안 오류가 발생했습니다: {e}\")\n",
    "    "
   ]
  },
  {
   "cell_type": "code",
   "execution_count": 27,
   "id": "60119fb8-53cd-4410-b4e4-300029b151b0",
   "metadata": {},
   "outputs": [
    {
     "name": "stdout",
     "output_type": "stream",
     "text": [
      "          년월   구역  일반생활(톤)  음식물류(톤)  재활용품(톤)\n",
      "0    2019-01  1구역      524      427      NaN\n",
      "1    2019-01  2구역      591      484      NaN\n",
      "2    2019-01  3구역      552      500      NaN\n",
      "3    2019-01  4구역      432      368      NaN\n",
      "4    2019-01  5구역      601      544      NaN\n",
      "..       ...  ...      ...      ...      ...\n",
      "343  2023-10  2구역      672      484    170.0\n",
      "344  2023-10  3구역      608      441    156.0\n",
      "345  2023-10  4구역      505      365     43.0\n",
      "346  2023-10  5구역      689      530    449.0\n",
      "347  2023-10  6구역      276      223      NaN\n",
      "\n",
      "[348 rows x 5 columns]\n"
     ]
    }
   ],
   "source": [
    "# 1. 기준년도를 문자열로 변환\n",
    "df['기준년도'] = df['기준년도'].astype(str)\n",
    "\n",
    "# 2. 기준월을 문자열로 변환하고, 한 자리 수 앞에 '0'을 붙임\n",
    "df['기준월'] = df['기준월'].astype(str).str.zfill(2)\n",
    "\n",
    "# 3. 새로운 '년월' 컬럼 생성\n",
    "df['년월'] = df['기준년도'] + '-' + df['기준월']\n",
    "\n",
    "# 이제 필요없는 기준년도와 기준월 컬럼을 삭제\n",
    "df = df.drop(columns=['기준년도', '기준월', '행정동'])\n",
    "\n",
    "# 4. 컬럼 순서 재배치\n",
    "new_columns = ['년월'] + [col for col in df.columns if col != '년월']\n",
    "df = df[new_columns]\n",
    "\n",
    "#출력\n",
    "print(df)"
   ]
  },
  {
   "cell_type": "code",
   "execution_count": 30,
   "id": "4777efec-02af-466c-9dd2-244a7989be16",
   "metadata": {},
   "outputs": [
    {
     "name": "stdout",
     "output_type": "stream",
     "text": [
      "\n",
      "'쓰레기 배출/서울특별시 양천구_구역별쓰레기배출량_20231115.csv'에 변경 사항을 저장했습니다.\n"
     ]
    }
   ],
   "source": [
    "file_path = '쓰레기 배출/서울특별시 양천구_구역별쓰레기배출량_20231115.csv'\n",
    "try:\n",
    "    df.to_csv(file_path, index=False, encoding='cp949') # 또는 encoding='cp949'\n",
    "    print(f\"\\n'{file_path}'에 변경 사항을 저장했습니다.\")\n",
    "except Exception as e:\n",
    "    print(f\"파일을 저장하는 동안 오류가 발생했습니다: {e}\")"
   ]
  },
  {
   "cell_type": "code",
   "execution_count": 31,
   "id": "1ff2b1f2-ccfe-4440-9e28-46653b372600",
   "metadata": {},
   "outputs": [
    {
     "name": "stdout",
     "output_type": "stream",
     "text": [
      "          년월   구역  일반생활(톤)  음식물류(톤)  재활용품(톤)\n",
      "0    2019-01  1구역      524      427      NaN\n",
      "1    2019-01  2구역      591      484      NaN\n",
      "2    2019-01  3구역      552      500      NaN\n",
      "3    2019-01  4구역      432      368      NaN\n",
      "4    2019-01  5구역      601      544      NaN\n",
      "..       ...  ...      ...      ...      ...\n",
      "343  2023-10  2구역      672      484    170.0\n",
      "344  2023-10  3구역      608      441    156.0\n",
      "345  2023-10  4구역      505      365     43.0\n",
      "346  2023-10  5구역      689      530    449.0\n",
      "347  2023-10  6구역      276      223      NaN\n",
      "\n",
      "[348 rows x 5 columns]\n"
     ]
    }
   ],
   "source": [
    "file_path = '쓰레기 배출/서울특별시 양천구_구역별쓰레기배출량_20231115.csv'\n",
    "df = pd.read_csv(file_path, encoding = 'cp949')\n",
    "print(df)"
   ]
  },
  {
   "cell_type": "code",
   "execution_count": null,
   "id": "8a234237-868b-4473-bca6-432ab7003cb9",
   "metadata": {},
   "outputs": [],
   "source": []
  }
 ],
 "metadata": {
  "kernelspec": {
   "display_name": "Python 3 (ipykernel)",
   "language": "python",
   "name": "python3"
  },
  "language_info": {
   "codemirror_mode": {
    "name": "ipython",
    "version": 3
   },
   "file_extension": ".py",
   "mimetype": "text/x-python",
   "name": "python",
   "nbconvert_exporter": "python",
   "pygments_lexer": "ipython3",
   "version": "3.13.3"
  }
 },
 "nbformat": 4,
 "nbformat_minor": 5
}
