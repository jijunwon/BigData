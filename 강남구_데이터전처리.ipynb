{
 "cells": [
  {
   "cell_type": "code",
   "execution_count": 1,
   "id": "20c15e93-d377-4388-ab33-582f527e92e5",
   "metadata": {},
   "outputs": [],
   "source": [
    "import numpy as np\n",
    "import pandas as pd"
   ]
  },
  {
   "cell_type": "code",
   "execution_count": 5,
   "id": "26abcf59-0933-4dc0-837c-14671359139f",
   "metadata": {},
   "outputs": [],
   "source": [
    "file_path = '쓰레기 배출/서울특별시 강남구_생활폐기물배출량_20221019.csv'"
   ]
  },
  {
   "cell_type": "code",
   "execution_count": 7,
   "id": "9c8bfc9f-a279-4e39-800e-813dcb6edfd3",
   "metadata": {},
   "outputs": [
    {
     "name": "stdout",
     "output_type": "stream",
     "text": [
      "CSV 파일 로드 완료(cp949)!\n",
      "    강남구  2019년(생활폐기물)-톤  2020년(생활폐기물)-톤\n",
      "0   01월            7550            7350\n",
      "1   02월            6387            6688\n",
      "2   03월            7198            6973\n",
      "3   04월            6820            6448\n",
      "4   05월            7767            6470\n",
      "5   06월            7275            7923\n",
      "6   07월            8164            8015\n",
      "7   08월            7807            7859\n",
      "8   09월            6811            7452\n",
      "9   10월            7222            6875\n",
      "10  11월            7592            7337\n",
      "11  12월            7298            6911\n"
     ]
    }
   ],
   "source": [
    "try:\n",
    "    df = pd.read_csv(file_path, encoding = 'cp949')\n",
    "    print(\"CSV 파일 로드 완료(cp949)!\")\n",
    "    print(df) # 처음 몇 줄을 출력하여 데이터 확인\n",
    "except FileNotFoundError:\n",
    "    print(f\"경로 '{file_path}'에 파일이 없습니다. 파일 경로를 확인해주세요.\")\n",
    "except Exception as e:\n",
    "    print(f\"파일을 로드하는 동안 오류가 발생했습니다: {e}\")"
   ]
  },
  {
   "cell_type": "code",
   "execution_count": 26,
   "id": "08fa7517-2c22-4bde-81cf-8090248e443d",
   "metadata": {},
   "outputs": [],
   "source": [
    "#'강남구'에서 월 정보 추출 후 '월'열 생성\n",
    "df['월'] = df['강남구'].str.replace('월','', regex=False).str.zfill(2)\n",
    "\n",
    "#텅 빈 DataFrame\n",
    "result_df = pd.DataFrame(columns=['년월', '총 쓰레기(톤)'])\n",
    "\n",
    "#2019년 데이터 처리\n",
    "for i in range(len(df)):\n",
    "    year_month = f\"2019-{df['월'][i]}\"\n",
    "    total_waste = df['2019년(생활폐기물)-톤'][i]\n",
    "    result_df.loc[len(result_df)] = [year_month, total_waste]\n",
    "\n",
    "#2020년 데이터 처리\n",
    "for i in range(len(df)):\n",
    "    year_month = f\"2020-{df['월'][i]}\"\n",
    "    total_waste = df['2020년(생활폐기물)-톤'][i]\n",
    "    result_df.loc[len(result_df)] = [year_month, total_waste]\n",
    "\n",
    "result_df = result_df.sort_values(by='년월').reset_index(drop=True)"
   ]
  },
  {
   "cell_type": "code",
   "execution_count": 27,
   "id": "39084458-a2c6-4cfe-be48-4cf84ec3e8a6",
   "metadata": {},
   "outputs": [
    {
     "name": "stdout",
     "output_type": "stream",
     "text": [
      "         년월  총 쓰레기(톤)\n",
      "0   2019-01      7550\n",
      "1   2019-02      6387\n",
      "2   2019-03      7198\n",
      "3   2019-04      6820\n",
      "4   2019-05      7767\n",
      "5   2019-06      7275\n",
      "6   2019-07      8164\n",
      "7   2019-08      7807\n",
      "8   2019-09      6811\n",
      "9   2019-10      7222\n",
      "10  2019-11      7592\n",
      "11  2019-12      7298\n",
      "12  2020-01      7350\n",
      "13  2020-02      6688\n",
      "14  2020-03      6973\n",
      "15  2020-04      6448\n",
      "16  2020-05      6470\n",
      "17  2020-06      7923\n",
      "18  2020-07      8015\n",
      "19  2020-08      7859\n",
      "20  2020-09      7452\n",
      "21  2020-10      6875\n",
      "22  2020-11      7337\n",
      "23  2020-12      6911\n"
     ]
    }
   ],
   "source": [
    "print(result_df)"
   ]
  },
  {
   "cell_type": "code",
   "execution_count": 29,
   "id": "b428954f-63e5-4cfc-8f45-16bf7d015680",
   "metadata": {},
   "outputs": [
    {
     "name": "stdout",
     "output_type": "stream",
     "text": [
      "\n",
      "'쓰레기 배출/서울특별시 강남구_생활폐기물배출량_20221019.csv'에 변경 사항을 저장했습니다.\n"
     ]
    }
   ],
   "source": [
    "try:\n",
    "    df.to_csv(file_path, index=False, encoding='cp949') # 또는 encoding='cp949'\n",
    "    print(f\"\\n'{file_path}'에 변경 사항을 저장했습니다.\")\n",
    "except Exception as e:\n",
    "    print(f\"파일을 저장하는 동안 오류가 발생했습니다: {e}\")"
   ]
  },
  {
   "cell_type": "code",
   "execution_count": null,
   "id": "59ae27fd-f4a0-493d-98b0-402683eb27f6",
   "metadata": {},
   "outputs": [],
   "source": []
  }
 ],
 "metadata": {
  "kernelspec": {
   "display_name": "Python 3 (ipykernel)",
   "language": "python",
   "name": "python3"
  },
  "language_info": {
   "codemirror_mode": {
    "name": "ipython",
    "version": 3
   },
   "file_extension": ".py",
   "mimetype": "text/x-python",
   "name": "python",
   "nbconvert_exporter": "python",
   "pygments_lexer": "ipython3",
   "version": "3.13.3"
  }
 },
 "nbformat": 4,
 "nbformat_minor": 5
}
